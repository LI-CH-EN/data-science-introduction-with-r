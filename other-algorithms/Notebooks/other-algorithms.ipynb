{
  "cells": [
    {
      "cell_type": "markdown",
      "source": [
        "# LDA Demo\n",
        "\n针对200篇名家散文抽取主题"
      ],
      "metadata": {}
    },
    {
      "cell_type": "markdown",
      "source": [
        "## 载入相关扩展包"
      ],
      "metadata": {}
    },
    {
      "cell_type": "code",
      "source": [
        "library(tidyverse)\n",
        "library(jsonlite)\n",
        "library(jiebaR)\n",
        "library(lda)\n",
        "library(LDAvis)"
      ],
      "outputs": [],
      "execution_count": 1,
      "metadata": {
        "collapsed": false,
        "outputHidden": false,
        "inputHidden": false
      }
    },
    {
      "cell_type": "markdown",
      "source": [
        "## 读入散文数据"
      ],
      "metadata": {}
    },
    {
      "cell_type": "code",
      "source": [
        "prose <- read_json('../Data/prose.json', simplifyVector = T)"
      ],
      "outputs": [],
      "execution_count": 2,
      "metadata": {
        "collapsed": false,
        "outputHidden": false,
        "inputHidden": false
      }
    },
    {
      "cell_type": "markdown",
      "source": [
        "## 对散文进行中文分词"
      ],
      "metadata": {}
    },
    {
      "cell_type": "code",
      "source": [
        "segmentor <- worker(stop_word = '../Data/stop-words-common.txt')\n",
        "content_seg <- sapply(prose$content, segment, segmentor)"
      ],
      "outputs": [],
      "execution_count": 3,
      "metadata": {
        "collapsed": false,
        "outputHidden": false,
        "inputHidden": false
      }
    },
    {
      "cell_type": "markdown",
      "source": [
        "## 统计词频，通过词的长度和词频进行过滤"
      ],
      "metadata": {}
    },
    {
      "cell_type": "code",
      "source": [
        "words_table <- table(unlist(content_seg))\n",
        "words_table_sroted <- sort(words_table, decreasing = TRUE)\n",
        "need_remove <- words_table_sroted < 5 | \n",
        "    str_length(names(words_table_sroted)) < 2 |\n",
        "    str_detect(names(words_table_sroted), regex('[0-9a-zA-Z]+'))\n",
        "words_table_sroted <- words_table_sroted[!need_remove]\n",
        "vocab <- names(words_table_sroted)"
      ],
      "outputs": [],
      "execution_count": 27,
      "metadata": {
        "collapsed": false,
        "outputHidden": false,
        "inputHidden": false
      }
    },
    {
      "cell_type": "markdown",
      "source": [
        "## 构造用于LDA的文档"
      ],
      "metadata": {}
    },
    {
      "cell_type": "code",
      "source": [
        "get_wrods <- function(x, vocab) {\n",
        "    index <- match(x, vocab)\n",
        "    index <- index[!is.na(index)]\n",
        "    rbind(as.integer(index - 1), as.integer(rep(1, length(index))))\n",
        "}\n",
        "\ndocuments <- lapply(content_seg, get_wrods, vocab)"
      ],
      "outputs": [],
      "execution_count": 5,
      "metadata": {
        "collapsed": false,
        "outputHidden": false,
        "inputHidden": false
      }
    },
    {
      "cell_type": "markdown",
      "source": [
        "## 构建LDA模型"
      ],
      "metadata": {}
    },
    {
      "cell_type": "code",
      "source": [
        "set.seed(112358)\n",
        "\n",
        "k <- 10\n",
        "max_iter <- 5000\n",
        "alpha <- 0.1\n",
        "eta <- 0.02\n",
        "\n",
        "lda_model <- lda.collapsed.gibbs.sampler(\n",
        "    documents = documents,\n",
        "    K = k,\n",
        "    vocab = vocab,\n",
        "    num.iterations = max_iter,\n",
        "    alpha = alpha,\n",
        "    eta = eta,\n",
        "    initial = NULL,\n",
        "    burnin = 0,\n",
        "    compute.log.likelihood = TRUE\n",
        ")"
      ],
      "outputs": [],
      "execution_count": 6,
      "metadata": {
        "collapsed": false,
        "outputHidden": false,
        "inputHidden": false
      }
    },
    {
      "cell_type": "markdown",
      "source": [
        "## # 生成用于LDAVis可视化的JSON格式数据"
      ],
      "metadata": {}
    },
    {
      "cell_type": "code",
      "source": [
        "vis_theta <- t(apply(lda_model$document_sums + alpha, 2, function(x) x / sum(x)))\n",
        "vis_phi <- t(apply(t(lda_model$topics) + eta, 2, function(x) x / sum(x)))\n",
        "vis_frequency <- as.integer(words_table_sroted)\n",
        "vis_doc_length <- sapply(documents, function(x) sum(x[2, ]))\n",
        "vis_json <- createJSON(\n",
        "    phi = vis_phi, \n",
        "    theta = vis_theta,\n",
        "    doc.length = vis_doc_length, \n",
        "    vocab = vocab,\n",
        "    term.frequency = vis_frequency\n",
        ")"
      ],
      "outputs": [],
      "execution_count": 7,
      "metadata": {
        "collapsed": false,
        "outputHidden": false,
        "inputHidden": false
      }
    },
    {
      "cell_type": "markdown",
      "source": [
        "## 生成LDAVis的可视化HTML页面"
      ],
      "metadata": {}
    },
    {
      "cell_type": "code",
      "source": [
        "serVis(vis_json, out.dir = 'LDAVis', open.browser = F)\n",
        "writeLines(iconv(readLines('LDAVis/lda.json'), from = 'GBK', to = 'UTF8'),\n",
        "           file('LDAVis/lda.json', encoding='UTF-8'))"
      ],
      "outputs": [],
      "execution_count": 8,
      "metadata": {
        "collapsed": false,
        "outputHidden": false,
        "inputHidden": false
      }
    },
    {
      "cell_type": "markdown",
      "source": [
        "## 查看不同主题的关键词"
      ],
      "metadata": {}
    },
    {
      "cell_type": "code",
      "source": [
        "topic_words <- top.topic.words(lda_model$topics, num.words = 10)\n",
        "row.names(topic_words) <- seq(1, 10)\n",
        "colnames(topic_words) <- paste('word', seq(1, 10), sep = '-')\n",
        "\ntopic_words"
      ],
      "outputs": [],
      "execution_count": 31,
      "metadata": {
        "collapsed": false,
        "outputHidden": false,
        "inputHidden": false
      }
    },
    {
      "cell_type": "markdown",
      "source": [
        "## 查看隶属于不同主题的文档"
      ],
      "metadata": {}
    },
    {
      "cell_type": "code",
      "source": [
        "library(plyr)\n",
        "topic_documents <- top.topic.documents(lda_model$document_sums, num.documents = 10)\n",
        "topic_documents_detail <- aaply(topic_documents, c(1, 2), function(id) {\n",
        "    paste(prose[id, ]$author, prose[id, ]$title, sep = ' - ')\n",
        "})\n",
        "colnames(topic_documents_detail) <- paste('prose', seq(1, 10), sep = '-')\n",
        "\ntopic_documents_detail"
      ],
      "outputs": [],
      "execution_count": 32,
      "metadata": {
        "collapsed": false,
        "outputHidden": false,
        "inputHidden": false
      }
    }
  ],
  "metadata": {
    "kernelspec": {
      "name": "ir",
      "language": "R",
      "display_name": "R"
    },
    "kernel_info": {
      "name": "ir"
    },
    "language_info": {
      "name": "R",
      "codemirror_mode": "r",
      "pygments_lexer": "r",
      "mimetype": "text/x-r-source",
      "file_extension": ".r",
      "version": "3.4.2"
    },
    "nteract": {
      "version": "0.3.4"
    }
  },
  "nbformat": 4,
  "nbformat_minor": 4
}